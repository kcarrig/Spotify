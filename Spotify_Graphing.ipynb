{
  "nbformat": 4,
  "nbformat_minor": 0,
  "metadata": {
    "colab": {
      "name": "Spotify Graphing.ipynb",
      "provenance": [],
      "collapsed_sections": []
    },
    "kernelspec": {
      "name": "python3",
      "display_name": "Python 3"
    },
    "language_info": {
      "name": "python"
    }
  },
  "cells": [
    {
      "cell_type": "code",
      "metadata": {
        "colab": {
          "base_uri": "https://localhost:8080/"
        },
        "id": "jqAFNtjN2TUR",
        "outputId": "d53cb747-fed1-472c-b1ff-93f6c84b87c0"
      },
      "source": [
        "print (\"Mounting Google Drive to This Notebook ...\")\n",
        "\n",
        "from google.colab import drive\n",
        "drive.mount('/content/drive')\n",
        "\n",
        "print (\"Successfully Mounted Google Drive to this notebook!\")"
      ],
      "execution_count": 2,
      "outputs": [
        {
          "output_type": "stream",
          "text": [
            "Mounting Google Drive to This Notebook ...\n",
            "Mounted at /content/drive\n",
            "Successfully Mounted Google Drive to this notebook!\n"
          ],
          "name": "stdout"
        }
      ]
    },
    {
      "cell_type": "code",
      "metadata": {
        "id": "FG6O2r6I2X8x"
      },
      "source": [
        "import pandas as pd\n",
        "import seaborn as sns\n",
        "import matplotlib.pyplot as plt\n",
        "from google.colab import files\n",
        "from google.colab import data_table"
      ],
      "execution_count": 3,
      "outputs": []
    },
    {
      "cell_type": "code",
      "metadata": {
        "colab": {
          "base_uri": "https://localhost:8080/"
        },
        "id": "qpo_jQsp2ceL",
        "outputId": "7535eeb6-57ef-4de3-b37c-4040c40b80d1"
      },
      "source": [
        "df = pd.read_csv('/content/drive/MyDrive/Spotify/playlist_summary_external.txt',sep='\\t')\n",
        "%reload_ext google.colab.data_table\n",
        "df.columns"
      ],
      "execution_count": 4,
      "outputs": [
        {
          "output_type": "execute_result",
          "data": {
            "text/plain": [
              "Index(['playlist_uri', 'owner', 'streams', 'stream30s', 'dau', 'wau', 'mau',\n",
              "       'mau_previous_month', 'mau_both_months', 'users', 'skippers',\n",
              "       'owner_country', 'n_tracks', 'n_local_tracks', 'n_artists', 'n_albums',\n",
              "       'monthly_stream30s', 'monthly_owner_stream30s', 'tokens', 'genre_1',\n",
              "       'genre_2', 'genre_3', 'mood_1', 'mood_2', 'mood_3'],\n",
              "      dtype='object')"
            ]
          },
          "metadata": {
            "tags": []
          },
          "execution_count": 4
        }
      ]
    },
    {
      "cell_type": "code",
      "metadata": {
        "id": "EGyFuLWY2dvP"
      },
      "source": [
        "# Remove Spotify Owned Playlists\n",
        "\n",
        "df = df[df['owner']!='spotify']"
      ],
      "execution_count": 5,
      "outputs": []
    },
    {
      "cell_type": "code",
      "metadata": {
        "id": "hW35hPGVBffS"
      },
      "source": [
        "# Create Dependent Variables\n",
        "\n",
        "# Variable 1 - Percentage of Today's Total Streams Over 30 seconds in duration\n",
        "\n",
        "df['quality_streams'] = (df['stream30s']/df['streams'])*100\n",
        "df['quality_streams'].fillna(0,inplace=True)\n",
        "\n",
        "# Variable 2 - Growth Percentage (Ratio of Past to Previous Month Users)\n",
        "\n",
        "def generate_growth_variable(x,y):\n",
        "  if y==0:\n",
        "    return np.nan\n",
        "  else:\n",
        "    #return x/y\n",
        "    return ((x-y)/y)*100\n",
        "\n",
        "#Growth Rate Absolute\n",
        "\n",
        "df['growth_absolute'] = df['mau']-df['mau_previous_month']\n",
        "#df['growth_variable'].fillna(0,inplace=True)\n",
        "df['growth_absolute'].dropna(inplace=True)\n",
        "\n",
        "# Variable 3 - Quality Users ('WAU','DAU','MAU')\n"
      ],
      "execution_count": 6,
      "outputs": []
    },
    {
      "cell_type": "code",
      "metadata": {
        "id": "4to9tCdGFGB4"
      },
      "source": [
        "# Quad Growth Absolute - All\n",
        "\n",
        "fig_dims = (20, 20)\n",
        "fig, ax = plt.subplots(figsize=fig_dims)\n",
        "#ax.set(xscale=\"log\")\n",
        "#ax.set(yscale=\"log\")\n",
        "#ax.set(ylim=(-100, 100))\n",
        "#ax.grid(False)\n",
        "ax.set(xlabel='% of Daily Total Streams > 30 Seconds',ylabel='MAU Monthly Growth Rate')\n",
        "\n",
        "#sns.set(font_scale = 500,font=\"Arimo\")\n",
        "sns.set(rc={'figure.facecolor': '#182722','axes.facecolor':'#182722','xtick.color':'white', 'ytick.color':'white',\n",
        "            'ytick.labelsize' : '40', 'xtick.labelsize':'40' })\n",
        "\n",
        "#sns.set(rc={'font.size': 100, 'axes.labelsize': 100, 'legend.fontsize': 100, 'axes.titlesize': 100, 'xtick.labelsize': 100, 'ytick.labelsize': 100})\n",
        "\n",
        "#sns.scatterplot(data=new_df,x=combo[0],y=combo[1],size = combo[2],sizes=(5, 2000),x_jitter=10,y_jitter=10)\n",
        "sns.scatterplot(data=df,x='quality_streams',y='growth_absolute',size='mau',sizes=(200, 10000),x_jitter=0.1,y_jitter=0.1,ax=ax,\n",
        "                alpha= 0.5,color=\"#00e091\")\n",
        "plt.axhline(y=0, color='#EFE9F4', linestyle='--', linewidth=5)           \n",
        "plt.axvline(x=df['quality_streams'].max()/2, color='#EFE9F4',linestyle='--', linewidth=5) \n",
        "#plt.legend([],[], frameon=False)\n",
        "plt.legend(bbox_to_anchor=(1, 1,5,5), loc=2,fontsize='x-large', title_fontsize='40')\n",
        "plt.xlabel('% of Daily Total Streams > 30 Seconds')\n",
        "plt.ylabel('MAU Monthly Growth Rate')\n",
        "#plt.rcParams[\"axes.labelsize\"] = 1000\n",
        "#plt.savefig('quadrant.pdf')"
      ],
      "execution_count": null,
      "outputs": []
    },
    {
      "cell_type": "code",
      "metadata": {
        "id": "yC65strlILV3"
      },
      "source": [
        "# Quad Growth Absolute - With Cutoff\n",
        "\n",
        "df2 = df[df['growth_absolute']>=-20000]\n",
        "df2 = df2[df2['growth_absolute']<=20000]\n",
        "\n",
        "fig_dims = (20, 20)\n",
        "fig, ax = plt.subplots(figsize=fig_dims)\n",
        "#ax.set(xscale=\"log\")\n",
        "#ax.set(yscale=\"log\")\n",
        "#ax.set(ylim=(-100, 100))\n",
        "#ax.grid(False)\n",
        "ax.set(xlabel='% of Daily Total Streams > 30 Seconds',ylabel='MAU Monthly Growth Rate')\n",
        "\n",
        "#sns.set(font_scale = 500,font=\"Arimo\")\n",
        "sns.set(rc={'figure.facecolor': '#182722','axes.facecolor':'#182722','xtick.color':'white', 'ytick.color':'white',\n",
        "            'ytick.labelsize' : '40', 'xtick.labelsize':'40' })\n",
        "\n",
        "#sns.set(rc={'font.size': 100, 'axes.labelsize': 100, 'legend.fontsize': 100, 'axes.titlesize': 100, 'xtick.labelsize': 100, 'ytick.labelsize': 100})\n",
        "\n",
        "#sns.scatterplot(data=new_df,x=combo[0],y=combo[1],size = combo[2],sizes=(5, 2000),x_jitter=10,y_jitter=10)\n",
        "sns.scatterplot(data=df2,x='quality_streams',y='growth_absolute',size='mau',sizes=(200, 10000),x_jitter=0.1,y_jitter=0.1,ax=ax,\n",
        "                alpha= 0.5,color=\"#00e091\")\n",
        "plt.axhline(y=0, color='#EFE9F4', linestyle='--', linewidth=5)           \n",
        "plt.axvline(x=df2['quality_streams'].max()/2, color='#EFE9F4',linestyle='--', linewidth=5) \n",
        "plt.legend([],[], frameon=False)\n",
        "plt.xlabel('% of Daily Total Streams > 30 Seconds')\n",
        "plt.ylabel('MAU Monthly Growth Rate')\n",
        "#plt.rcParams[\"axes.labelsize\"] = 1000\n",
        "#plt.savefig('quadrant.pdf')"
      ],
      "execution_count": null,
      "outputs": []
    },
    {
      "cell_type": "code",
      "metadata": {
        "id": "MP-3csoodeNZ"
      },
      "source": [
        "# Case Study 1\n",
        "#df[df['playlist_uri']=='spotify:user:2ed777bdb3b70101b69430fedc051d90:playlist:1bNVBDbxwB5sPEW3GJaoSu'][['tokens','growth_absolute','quality_streams']]\n",
        "\n",
        "# Case Study 2\n",
        "#df[df['playlist_uri']=='spotify:user:a2e9efe4e9ec6085a112881a50650d51:playlist:5rMh5sksZqzbXdbnEYw1g6'][['tokens','growth_absolute','quality_streams']]\n",
        "\n",
        "# Case Study 3\n",
        "#df[df['playlist_uri']=='spotify:user:e60d19313a8df36c7e6cf59e259e0d66:playlist:19PgP2QSGPcm6Ve8VhbtpG'][['tokens','growth_absolute','quality_streams']]\n"
      ],
      "execution_count": null,
      "outputs": []
    },
    {
      "cell_type": "code",
      "metadata": {
        "id": "v6CwnKPw3gu6"
      },
      "source": [
        "# Function to Plot Normalized\n",
        "# https://re-thought.com/exploring-correlation-in-python/\n",
        "\n",
        "from scipy import stats\n",
        "import scipy\n",
        "import numpy as np\n",
        "\n",
        "def plot_normalized(mydf,x_val,y_val,h,w,z):\n",
        "  mydf_small= mydf[[x_val,y_val]]\n",
        "  z_scores = stats.zscore(mydf_small)\n",
        "\n",
        "  abs_z_scores = np.abs(z_scores)\n",
        "  filtered_entries = (abs_z_scores < z).all(axis=1)\n",
        "  new_df = mydf_small[filtered_entries]\n",
        "\n",
        "  corr,pvalue = scipy.stats.pearsonr(new_df[x_val],new_df[y_val])\n",
        "  corr2,pvalue2 = scipy.stats.spearmanr(new_df[x_val],new_df[y_val])\n",
        "  corr3, pvalue3 = scipy.stats.kendalltau(new_df[x_val],new_df[y_val])\n",
        "\n",
        "  fig_dims = (h, w)\n",
        "  fig, ax = plt.subplots(figsize=fig_dims)\n",
        "  #ax.set(xscale=\"log\")\n",
        "  #ax.set(yscale=\"log\")\n",
        "\n",
        "  #sns.set(font_scale = 500,font=\"Arimo\")\n",
        "  sns.set(rc={'figure.facecolor': '#182722','axes.facecolor':'#182722','xtick.color':'white', 'ytick.color':'white',\n",
        "              'ytick.labelsize' : '40', 'xtick.labelsize':'40' })\n",
        "\n",
        "  sns.regplot(data=new_df,x=x_val,y=y_val,fit_reg=True,x_jitter=.5,y_jitter=.5,ax=ax,scatter_kws={\"color\": \"#00e091\"}, line_kws={\"color\": \"#EFE9F4\"})\n",
        "\n",
        "  print (\"Pearson Coefficient: {}\".format(corr))\n",
        "  print (\"Pearson P-Value: {}\".format(pvalue))\n",
        "  print (\"Pearson P-Value: {:0.300f}\".format(pvalue))\n",
        "  print (\"\\n\")"
      ],
      "execution_count": 30,
      "outputs": []
    },
    {
      "cell_type": "code",
      "metadata": {
        "id": "S-bxItJhlKY0"
      },
      "source": [
        "def count_genre(x,y,z):\n",
        "  cnt=0\n",
        "  if x!='-':\n",
        "    cnt+=1\n",
        "  if y!='-':\n",
        "    cnt+=1  \n",
        "  if z!='-':\n",
        "    cnt+=1\n",
        "  return cnt\n",
        "\n",
        "df['genre_count']=df.apply(lambda row: count_genre(row['genre_1'],row['genre_2'],row['genre_3']),axis=1)"
      ],
      "execution_count": 235,
      "outputs": []
    },
    {
      "cell_type": "code",
      "metadata": {
        "id": "ULrvyW-owVe_"
      },
      "source": [
        "indep_variables = ['genre_count']\n",
        "dep_variables = ['mau','quality_streams','growth_absolute']\n",
        "\n",
        "for i in dep_variables:\n",
        "  for j in indep_variables:\n",
        "    plot_normalized(df,j,i,10,10,1)"
      ],
      "execution_count": null,
      "outputs": []
    },
    {
      "cell_type": "code",
      "metadata": {
        "id": "oqlniMELxQxX"
      },
      "source": [
        "# Playlist Titles Matter\n",
        "# More Generic, More Ubiqitous, Search Optimization\n",
        "# Uniqueness\n",
        "# Lexical Complexity (pip install textstat)\n",
        "\n",
        "tokens = pd.Series(df['tokens']).explode()\n",
        "tokens = [x.strip('][').split(', ') for x in df['tokens']]\n",
        "tokens2 = sum(tokens, [])\n",
        "\n",
        "from collections import Counter\n",
        "\n",
        "token_counter = Counter(tokens2)\n",
        "\n",
        "token_counter_df = pd.DataFrame.from_records(list(dict(token_counter).items()), columns=['token','count'])\n",
        "\n",
        "token_counter_df2 = token_counter_df.sort_values('count',ascending=False).reset_index()\n",
        "token_counter_df2 = token_counter_df2[token_counter_df2['token']!='']\n",
        "\n",
        "df['tokens_list']=tokens"
      ],
      "execution_count": 7,
      "outputs": []
    },
    {
      "cell_type": "code",
      "metadata": {
        "id": "md3Q8wcIy7LM"
      },
      "source": [
        "bottom_10k = token_counter_df2.tail(10000)['token'].tolist()\n",
        "first_10k = token_counter_df2.head(10000)['token'].tolist()\n",
        "\n",
        "def get_top_count(x,y):\n",
        "  cnt=0\n",
        "  for i in y:\n",
        "    if x.count(i)>0:\n",
        "      cnt+=1\n",
        "  return cnt\n",
        "\n",
        "df['top_10k']=df.apply(lambda row: get_top_count(row['tokens'],first_10k),axis=1)\n",
        "df['bottom_10k']=df.apply(lambda row: get_top_count(row['tokens'],bottom_10k),axis=1)"
      ],
      "execution_count": 254,
      "outputs": []
    },
    {
      "cell_type": "code",
      "metadata": {
        "colab": {
          "base_uri": "https://localhost:8080/"
        },
        "id": "MuPPU5dw2h1a",
        "outputId": "1a3f1258-1c4f-4028-d1a7-cc748f4bb3c3"
      },
      "source": [
        "df.columns"
      ],
      "execution_count": 267,
      "outputs": [
        {
          "output_type": "execute_result",
          "data": {
            "text/plain": [
              "Index(['playlist_uri', 'owner', 'streams', 'stream30s', 'dau', 'wau', 'mau',\n",
              "       'mau_previous_month', 'mau_both_months', 'users', 'skippers',\n",
              "       'owner_country', 'n_tracks', 'n_local_tracks', 'n_artists', 'n_albums',\n",
              "       'monthly_stream30s', 'monthly_owner_stream30s', 'tokens', 'genre_1',\n",
              "       'genre_2', 'genre_3', 'mood_1', 'mood_2', 'mood_3', 'quality_streams',\n",
              "       'growth_absolute', 'Owner_Count', 'genre_in_token', 'top_100',\n",
              "       'tokens_list', 'top_100_log', 'top_10k', 'bottom_10k'],\n",
              "      dtype='object')"
            ]
          },
          "metadata": {
            "tags": []
          },
          "execution_count": 267
        }
      ]
    },
    {
      "cell_type": "code",
      "metadata": {
        "id": "YFuN_FU82bYx"
      },
      "source": [
        "df['top_10k_perc']=(df['top_10k']/df['tokens_list'].apply(len))*100\n",
        "df['bottom_10k_perc']=(df['bottom_10k']/df['tokens_list'].apply(len))*100\n"
      ],
      "execution_count": 274,
      "outputs": []
    },
    {
      "cell_type": "code",
      "metadata": {
        "id": "Xo0bC4RI8Gui"
      },
      "source": [
        "fig_dims = (20, 20)\n",
        "fig, ax = plt.subplots(figsize=fig_dims)\n",
        "\n",
        "import matplotlib.ticker as mtick\n",
        "\n",
        "ax.xaxis.set_major_formatter(mtick.PercentFormatter())\n",
        "\n",
        "sns.set(rc={'figure.facecolor': '#182722','axes.facecolor':'#182722','xtick.color':'white', 'ytick.color':'white','ytick.labelsize' : '40', 'xtick.labelsize':'40' })\n",
        "sns.scatterplot(data=df[df['mau']<50000],x='top_10k_perc',y='mau',ax=ax,color=\"#00e091\")\n",
        "plt.legend([],[], frameon=False)"
      ],
      "execution_count": null,
      "outputs": []
    },
    {
      "cell_type": "code",
      "metadata": {
        "id": "wArZktOe1S_X"
      },
      "source": [
        "fig_dims = (20, 20)\n",
        "fig, ax = plt.subplots(figsize=fig_dims)\n",
        "\n",
        "import matplotlib.ticker as mtick\n",
        "\n",
        "ax.xaxis.set_major_formatter(mtick.PercentFormatter())\n",
        "\n",
        "sns.set(rc={'figure.facecolor': '#182722','axes.facecolor':'#182722','xtick.color':'white', 'ytick.color':'white','ytick.labelsize' : '40', 'xtick.labelsize':'40' })\n",
        "sns.scatterplot(data=df[df['mau']<50000],x='bottom_10k_perc',y='mau',ax=ax,color=\"#00e091\")\n",
        "plt.legend([],[], frameon=False)"
      ],
      "execution_count": null,
      "outputs": []
    },
    {
      "cell_type": "code",
      "metadata": {
        "id": "4f5BdXqjHuOr"
      },
      "source": [
        "owner_playlist_count = df.groupby('owner',as_index=False).agg({'playlist_uri': ['count']}).reset_index()\n",
        "owner_playlist_count = pd.DataFrame({'owner': owner_playlist_count['owner'],'Owner_Count':owner_playlist_count['playlist_uri','count']})\n",
        "\n",
        "df=df.merge(owner_playlist_count,on='owner',suffixes=('','owner_'))"
      ],
      "execution_count": 34,
      "outputs": []
    },
    {
      "cell_type": "code",
      "metadata": {
        "id": "bwzj78U5JsOf"
      },
      "source": [
        "# Number of Genres vs. MAU\n",
        "\n",
        "fig_dims = (20, 20)\n",
        "fig, ax = plt.subplots(figsize=fig_dims)\n",
        "#ax.set(xscale=\"log\")\n",
        "#ax.set(yscale=\"log\")\n",
        "#ax.set(xlim=(0,1))\n",
        "#ax.grid(False)\n",
        "ax.set(xlabel='% of Daily Total Streams > 30 Seconds',ylabel='MAU Monthly Growth Rate')\n",
        "\n",
        "#sns.set(font_scale = 500,font=\"Arimo\")\n",
        "sns.set(rc={'figure.facecolor': '#182722','axes.facecolor':'#182722','xtick.color':'white', 'ytick.color':'white',\n",
        "            'ytick.labelsize' : '40', 'xtick.labelsize':'40' })\n",
        "\n",
        "sns.scatterplot(data=df,y='Owner_Count',x='growth_absolute',ax=ax,color=\"#00e091\")\n",
        "plt.legend([],[], frameon=False)\n",
        "plt.xlabel('% of Daily Total Streams > 30 Seconds')\n",
        "plt.ylabel('MAU Monthly Growth Rate')\n",
        "#plt.rcParams[\"axes.labelsize\"] = 1000\n",
        "#plt.savefig('quadrant.pdf')\n"
      ],
      "execution_count": null,
      "outputs": []
    },
    {
      "cell_type": "code",
      "metadata": {
        "id": "YeMoxrZroQyz"
      },
      "source": [
        "genre_1, genre_2, genre_3 = df[['owner','genre_1']],df[['owner','genre_2']],df[['owner','genre_3']]\n",
        "genre_1.columns,genre_2.columns,genre_3.columns=['owner','genre'],['owner','genre'],['owner','genre']\n",
        "\n",
        "genre_groups = genre_1.append(genre_2).append(genre_3)\n",
        "genre_groups = genre_groups[genre_groups['genre']!='-']\n",
        "genre_groups.drop_duplicates(inplace=True)\n",
        "\n",
        "genre_groups.head(5)\n",
        "\n",
        "genre_agg = genre_groups.groupby('owner')['genre'].nunique().reset_index()"
      ],
      "execution_count": 5,
      "outputs": []
    },
    {
      "cell_type": "code",
      "metadata": {
        "id": "06VHiPT-c1KH"
      },
      "source": [
        "fig_dims = (20, 20)\n",
        "fig, ax = plt.subplots(figsize=fig_dims)\n",
        "#ax.set(xscale=\"log\")\n",
        "#ax.set(yscale=\"log\")\n",
        "ax.set(xlim=(0,18))\n",
        "#ax.grid(False)\n",
        "ax.set(xlabel='% of Daily Total Streams > 30 Seconds',ylabel='MAU Monthly Growth Rate')\n",
        "\n",
        "#sns.set(font_scale = 500,font=\"Arimo\")\n",
        "sns.set(rc={'figure.facecolor': '#182722','axes.facecolor':'#182722','xtick.color':'white', 'ytick.color':'white',\n",
        "            'ytick.labelsize' : '40', 'xtick.labelsize':'40' })\n",
        "\n",
        "sns.scatterplot(data=genre_plot[genre_plot['mau']<=50000],y='mau',x='genre',ax=ax,color=\"#00e091\")\n",
        "\n",
        "plt.legend([],[], frameon=False)\n",
        "plt.xlabel('% of Daily Total Streams > 30 Seconds')\n",
        "plt.ylabel('MAU Monthly Growth Rate')\n"
      ],
      "execution_count": null,
      "outputs": []
    },
    {
      "cell_type": "code",
      "metadata": {
        "id": "Ewa1uPd2c1Gm"
      },
      "source": [
        "genre_line_plot = genre_plot.groupby('genre').agg({'quality_streams':'mean'}).reset_index()\n",
        "\n",
        "fig_dims = (20, 20)\n",
        "fig, ax = plt.subplots(figsize=fig_dims)\n",
        "#ax.set(xscale=\"log\")\n",
        "#ax.set(yscale=\"log\")\n",
        "ax.set(xlim=(0,18))\n",
        "#ax.grid(False)\n",
        "ax.set(xlabel='% of Daily Total Streams > 30 Seconds',ylabel='MAU Monthly Growth Rate')\n",
        "\n",
        "#sns.set(font_scale = 500,font=\"Arimo\")\n",
        "sns.set(rc={'figure.facecolor': '#182722','axes.facecolor':'#182722','xtick.color':'white', 'ytick.color':'white',\n",
        "            'ytick.labelsize' : '40', 'xtick.labelsize':'40' })\n",
        "\n",
        "sns.lineplot(data=genre_line_plot ,y='quality_streams',x='genre',ax=ax,color=\"#00e091\")\n",
        "\n",
        "plt.legend([],[], frameon=False)\n",
        "plt.xlabel('% of Daily Total Streams > 30 Seconds')\n",
        "plt.ylabel('MAU Monthly Growth Rate')"
      ],
      "execution_count": null,
      "outputs": []
    }
  ]
}